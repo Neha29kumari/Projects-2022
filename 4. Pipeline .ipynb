{
 "cells": [
  {
   "cell_type": "code",
   "execution_count": 1,
   "id": "4d1b2e14",
   "metadata": {},
   "outputs": [],
   "source": [
    "import pandas as pd\n",
    "import numpy as np\n",
    "import matplotlib.pyplot as plt"
   ]
  },
  {
   "cell_type": "code",
   "execution_count": 2,
   "id": "d235b450",
   "metadata": {},
   "outputs": [],
   "source": [
    "Data=pd.read_csv(\"Final_data.csv\")"
   ]
  },
  {
   "cell_type": "code",
   "execution_count": 3,
   "id": "26eb5521",
   "metadata": {},
   "outputs": [
    {
     "data": {
      "text/html": [
       "<div>\n",
       "<style scoped>\n",
       "    .dataframe tbody tr th:only-of-type {\n",
       "        vertical-align: middle;\n",
       "    }\n",
       "\n",
       "    .dataframe tbody tr th {\n",
       "        vertical-align: top;\n",
       "    }\n",
       "\n",
       "    .dataframe thead th {\n",
       "        text-align: right;\n",
       "    }\n",
       "</style>\n",
       "<table border=\"1\" class=\"dataframe\">\n",
       "  <thead>\n",
       "    <tr style=\"text-align: right;\">\n",
       "      <th></th>\n",
       "      <th>Unnamed: 0</th>\n",
       "      <th>SeniorCitizen</th>\n",
       "      <th>Partner</th>\n",
       "      <th>Dependents</th>\n",
       "      <th>tenure</th>\n",
       "      <th>MultipleLines</th>\n",
       "      <th>OnlineSecurity</th>\n",
       "      <th>OnlineBackup</th>\n",
       "      <th>DeviceProtection</th>\n",
       "      <th>TechSupport</th>\n",
       "      <th>Contract</th>\n",
       "      <th>PaperlessBilling</th>\n",
       "      <th>PaymentMethod</th>\n",
       "      <th>MonthlyCharges</th>\n",
       "      <th>TotalCharges</th>\n",
       "      <th>Churn</th>\n",
       "    </tr>\n",
       "  </thead>\n",
       "  <tbody>\n",
       "    <tr>\n",
       "      <th>0</th>\n",
       "      <td>0</td>\n",
       "      <td>0</td>\n",
       "      <td>Yes</td>\n",
       "      <td>No</td>\n",
       "      <td>1</td>\n",
       "      <td>No phone service</td>\n",
       "      <td>No</td>\n",
       "      <td>Yes</td>\n",
       "      <td>No</td>\n",
       "      <td>No</td>\n",
       "      <td>Month-to-month</td>\n",
       "      <td>Yes</td>\n",
       "      <td>Electronic check</td>\n",
       "      <td>29.85</td>\n",
       "      <td>29.85</td>\n",
       "      <td>No</td>\n",
       "    </tr>\n",
       "    <tr>\n",
       "      <th>1</th>\n",
       "      <td>1</td>\n",
       "      <td>0</td>\n",
       "      <td>No</td>\n",
       "      <td>No</td>\n",
       "      <td>34</td>\n",
       "      <td>No</td>\n",
       "      <td>Yes</td>\n",
       "      <td>No</td>\n",
       "      <td>Yes</td>\n",
       "      <td>No</td>\n",
       "      <td>One year</td>\n",
       "      <td>No</td>\n",
       "      <td>Mailed check</td>\n",
       "      <td>56.95</td>\n",
       "      <td>1889.50</td>\n",
       "      <td>No</td>\n",
       "    </tr>\n",
       "    <tr>\n",
       "      <th>2</th>\n",
       "      <td>2</td>\n",
       "      <td>0</td>\n",
       "      <td>No</td>\n",
       "      <td>No</td>\n",
       "      <td>2</td>\n",
       "      <td>No</td>\n",
       "      <td>Yes</td>\n",
       "      <td>Yes</td>\n",
       "      <td>No</td>\n",
       "      <td>No</td>\n",
       "      <td>Month-to-month</td>\n",
       "      <td>Yes</td>\n",
       "      <td>Mailed check</td>\n",
       "      <td>53.85</td>\n",
       "      <td>108.15</td>\n",
       "      <td>Yes</td>\n",
       "    </tr>\n",
       "    <tr>\n",
       "      <th>3</th>\n",
       "      <td>3</td>\n",
       "      <td>0</td>\n",
       "      <td>No</td>\n",
       "      <td>No</td>\n",
       "      <td>45</td>\n",
       "      <td>No phone service</td>\n",
       "      <td>Yes</td>\n",
       "      <td>No</td>\n",
       "      <td>Yes</td>\n",
       "      <td>Yes</td>\n",
       "      <td>One year</td>\n",
       "      <td>No</td>\n",
       "      <td>Bank transfer (automatic)</td>\n",
       "      <td>42.30</td>\n",
       "      <td>1840.75</td>\n",
       "      <td>No</td>\n",
       "    </tr>\n",
       "    <tr>\n",
       "      <th>4</th>\n",
       "      <td>4</td>\n",
       "      <td>0</td>\n",
       "      <td>No</td>\n",
       "      <td>No</td>\n",
       "      <td>2</td>\n",
       "      <td>No</td>\n",
       "      <td>No</td>\n",
       "      <td>No</td>\n",
       "      <td>No</td>\n",
       "      <td>No</td>\n",
       "      <td>Month-to-month</td>\n",
       "      <td>Yes</td>\n",
       "      <td>Electronic check</td>\n",
       "      <td>70.70</td>\n",
       "      <td>151.65</td>\n",
       "      <td>Yes</td>\n",
       "    </tr>\n",
       "    <tr>\n",
       "      <th>...</th>\n",
       "      <td>...</td>\n",
       "      <td>...</td>\n",
       "      <td>...</td>\n",
       "      <td>...</td>\n",
       "      <td>...</td>\n",
       "      <td>...</td>\n",
       "      <td>...</td>\n",
       "      <td>...</td>\n",
       "      <td>...</td>\n",
       "      <td>...</td>\n",
       "      <td>...</td>\n",
       "      <td>...</td>\n",
       "      <td>...</td>\n",
       "      <td>...</td>\n",
       "      <td>...</td>\n",
       "      <td>...</td>\n",
       "    </tr>\n",
       "    <tr>\n",
       "      <th>10343</th>\n",
       "      <td>10343</td>\n",
       "      <td>1</td>\n",
       "      <td>No</td>\n",
       "      <td>No</td>\n",
       "      <td>4</td>\n",
       "      <td>No</td>\n",
       "      <td>No</td>\n",
       "      <td>Yes</td>\n",
       "      <td>Yes</td>\n",
       "      <td>No</td>\n",
       "      <td>Month-to-month</td>\n",
       "      <td>Yes</td>\n",
       "      <td>Credit card (automatic)</td>\n",
       "      <td>99.80</td>\n",
       "      <td>442.85</td>\n",
       "      <td>Yes</td>\n",
       "    </tr>\n",
       "    <tr>\n",
       "      <th>10344</th>\n",
       "      <td>10344</td>\n",
       "      <td>0</td>\n",
       "      <td>No</td>\n",
       "      <td>No</td>\n",
       "      <td>1</td>\n",
       "      <td>Yes</td>\n",
       "      <td>No</td>\n",
       "      <td>No</td>\n",
       "      <td>Yes</td>\n",
       "      <td>No</td>\n",
       "      <td>Month-to-month</td>\n",
       "      <td>Yes</td>\n",
       "      <td>Electronic check</td>\n",
       "      <td>101.45</td>\n",
       "      <td>101.45</td>\n",
       "      <td>Yes</td>\n",
       "    </tr>\n",
       "    <tr>\n",
       "      <th>10345</th>\n",
       "      <td>10345</td>\n",
       "      <td>0</td>\n",
       "      <td>No</td>\n",
       "      <td>No</td>\n",
       "      <td>3</td>\n",
       "      <td>No</td>\n",
       "      <td>No</td>\n",
       "      <td>No</td>\n",
       "      <td>No</td>\n",
       "      <td>No</td>\n",
       "      <td>Month-to-month</td>\n",
       "      <td>Yes</td>\n",
       "      <td>Electronic check</td>\n",
       "      <td>45.35</td>\n",
       "      <td>141.50</td>\n",
       "      <td>Yes</td>\n",
       "    </tr>\n",
       "    <tr>\n",
       "      <th>10346</th>\n",
       "      <td>10346</td>\n",
       "      <td>1</td>\n",
       "      <td>No</td>\n",
       "      <td>No</td>\n",
       "      <td>2</td>\n",
       "      <td>Yes</td>\n",
       "      <td>No</td>\n",
       "      <td>No</td>\n",
       "      <td>No</td>\n",
       "      <td>No</td>\n",
       "      <td>Month-to-month</td>\n",
       "      <td>Yes</td>\n",
       "      <td>Electronic check</td>\n",
       "      <td>93.85</td>\n",
       "      <td>170.85</td>\n",
       "      <td>Yes</td>\n",
       "    </tr>\n",
       "    <tr>\n",
       "      <th>10347</th>\n",
       "      <td>10347</td>\n",
       "      <td>0</td>\n",
       "      <td>Yes</td>\n",
       "      <td>No</td>\n",
       "      <td>10</td>\n",
       "      <td>No</td>\n",
       "      <td>No</td>\n",
       "      <td>No</td>\n",
       "      <td>No</td>\n",
       "      <td>No</td>\n",
       "      <td>Month-to-month</td>\n",
       "      <td>Yes</td>\n",
       "      <td>Electronic check</td>\n",
       "      <td>79.95</td>\n",
       "      <td>857.20</td>\n",
       "      <td>Yes</td>\n",
       "    </tr>\n",
       "  </tbody>\n",
       "</table>\n",
       "<p>10348 rows × 16 columns</p>\n",
       "</div>"
      ],
      "text/plain": [
       "       Unnamed: 0  SeniorCitizen Partner Dependents  tenure     MultipleLines  \\\n",
       "0               0              0     Yes         No       1  No phone service   \n",
       "1               1              0      No         No      34                No   \n",
       "2               2              0      No         No       2                No   \n",
       "3               3              0      No         No      45  No phone service   \n",
       "4               4              0      No         No       2                No   \n",
       "...           ...            ...     ...        ...     ...               ...   \n",
       "10343       10343              1      No         No       4                No   \n",
       "10344       10344              0      No         No       1               Yes   \n",
       "10345       10345              0      No         No       3                No   \n",
       "10346       10346              1      No         No       2               Yes   \n",
       "10347       10347              0     Yes         No      10                No   \n",
       "\n",
       "      OnlineSecurity OnlineBackup DeviceProtection TechSupport  \\\n",
       "0                 No          Yes               No          No   \n",
       "1                Yes           No              Yes          No   \n",
       "2                Yes          Yes               No          No   \n",
       "3                Yes           No              Yes         Yes   \n",
       "4                 No           No               No          No   \n",
       "...              ...          ...              ...         ...   \n",
       "10343             No          Yes              Yes          No   \n",
       "10344             No           No              Yes          No   \n",
       "10345             No           No               No          No   \n",
       "10346             No           No               No          No   \n",
       "10347             No           No               No          No   \n",
       "\n",
       "             Contract PaperlessBilling              PaymentMethod  \\\n",
       "0      Month-to-month              Yes           Electronic check   \n",
       "1            One year               No               Mailed check   \n",
       "2      Month-to-month              Yes               Mailed check   \n",
       "3            One year               No  Bank transfer (automatic)   \n",
       "4      Month-to-month              Yes           Electronic check   \n",
       "...               ...              ...                        ...   \n",
       "10343  Month-to-month              Yes    Credit card (automatic)   \n",
       "10344  Month-to-month              Yes           Electronic check   \n",
       "10345  Month-to-month              Yes           Electronic check   \n",
       "10346  Month-to-month              Yes           Electronic check   \n",
       "10347  Month-to-month              Yes           Electronic check   \n",
       "\n",
       "       MonthlyCharges  TotalCharges Churn  \n",
       "0               29.85         29.85    No  \n",
       "1               56.95       1889.50    No  \n",
       "2               53.85        108.15   Yes  \n",
       "3               42.30       1840.75    No  \n",
       "4               70.70        151.65   Yes  \n",
       "...               ...           ...   ...  \n",
       "10343           99.80        442.85   Yes  \n",
       "10344          101.45        101.45   Yes  \n",
       "10345           45.35        141.50   Yes  \n",
       "10346           93.85        170.85   Yes  \n",
       "10347           79.95        857.20   Yes  \n",
       "\n",
       "[10348 rows x 16 columns]"
      ]
     },
     "execution_count": 3,
     "metadata": {},
     "output_type": "execute_result"
    }
   ],
   "source": [
    "Data"
   ]
  },
  {
   "cell_type": "code",
   "execution_count": 4,
   "id": "67c6c5ea",
   "metadata": {},
   "outputs": [],
   "source": [
    "Data= Data.drop(\"Unnamed: 0\",axis=1)"
   ]
  },
  {
   "cell_type": "code",
   "execution_count": 5,
   "id": "83049643",
   "metadata": {},
   "outputs": [],
   "source": [
    "X = Data.drop(\"Churn\",axis=1)\n",
    "y = Data[\"Churn\"]"
   ]
  },
  {
   "cell_type": "code",
   "execution_count": 6,
   "id": "75e2a8dd",
   "metadata": {},
   "outputs": [],
   "source": [
    "from sklearn.pipeline import Pipeline"
   ]
  },
  {
   "cell_type": "code",
   "execution_count": 7,
   "id": "c7fca02c",
   "metadata": {},
   "outputs": [],
   "source": [
    "from sklearn.preprocessing import LabelEncoder\n",
    "from sklearn.ensemble import RandomForestClassifier\n",
    "from sklearn.preprocessing import StandardScaler\n"
   ]
  },
  {
   "cell_type": "code",
   "execution_count": 15,
   "id": "67a415d9",
   "metadata": {},
   "outputs": [
    {
     "name": "stdout",
     "output_type": "stream",
     "text": [
      "Requirement already satisfied: sklearn_pandas in c:\\users\\lenovo\\anaconda3\\lib\\site-packages (2.2.0)\n",
      "Requirement already satisfied: scipy>=1.5.1 in c:\\users\\lenovo\\anaconda3\\lib\\site-packages (from sklearn_pandas) (1.7.3)\n",
      "Requirement already satisfied: pandas>=1.1.4 in c:\\users\\lenovo\\anaconda3\\lib\\site-packages (from sklearn_pandas) (1.4.2)\n",
      "Requirement already satisfied: numpy>=1.18.1 in c:\\users\\lenovo\\anaconda3\\lib\\site-packages (from sklearn_pandas) (1.21.5)\n",
      "Requirement already satisfied: scikit-learn>=0.23.0 in c:\\users\\lenovo\\anaconda3\\lib\\site-packages (from sklearn_pandas) (1.1.2)\n",
      "Requirement already satisfied: pytz>=2020.1 in c:\\users\\lenovo\\anaconda3\\lib\\site-packages (from pandas>=1.1.4->sklearn_pandas) (2021.3)\n",
      "Requirement already satisfied: python-dateutil>=2.8.1 in c:\\users\\lenovo\\anaconda3\\lib\\site-packages (from pandas>=1.1.4->sklearn_pandas) (2.8.2)\n",
      "Requirement already satisfied: six>=1.5 in c:\\users\\lenovo\\anaconda3\\lib\\site-packages (from python-dateutil>=2.8.1->pandas>=1.1.4->sklearn_pandas) (1.16.0)\n",
      "Requirement already satisfied: threadpoolctl>=2.0.0 in c:\\users\\lenovo\\anaconda3\\lib\\site-packages (from scikit-learn>=0.23.0->sklearn_pandas) (2.2.0)\n",
      "Requirement already satisfied: joblib>=1.0.0 in c:\\users\\lenovo\\anaconda3\\lib\\site-packages (from scikit-learn>=0.23.0->sklearn_pandas) (1.1.0)\n"
     ]
    }
   ],
   "source": [
    "!pip install sklearn_pandas"
   ]
  },
  {
   "cell_type": "code",
   "execution_count": 9,
   "id": "dab865ad",
   "metadata": {},
   "outputs": [],
   "source": [
    "from sklearn_pandas import DataFrameMapper"
   ]
  },
  {
   "cell_type": "code",
   "execution_count": 10,
   "id": "970ada3d",
   "metadata": {},
   "outputs": [
    {
     "data": {
      "text/plain": [
       "Index(['Partner', 'Dependents', 'MultipleLines', 'OnlineSecurity',\n",
       "       'OnlineBackup', 'DeviceProtection', 'TechSupport', 'Contract',\n",
       "       'PaperlessBilling', 'PaymentMethod'],\n",
       "      dtype='object')"
      ]
     },
     "execution_count": 10,
     "metadata": {},
     "output_type": "execute_result"
    }
   ],
   "source": [
    "X.loc[:,X.dtypes==object].columns"
   ]
  },
  {
   "cell_type": "code",
   "execution_count": 11,
   "id": "bf8c4e51",
   "metadata": {},
   "outputs": [],
   "source": [
    "m = DataFrameMapper([([\"Dependents\",LabelEncoder()]),([\"Partner\",LabelEncoder()]),([\"MultipleLines\",LabelEncoder()]),\n",
    "                     ([\"OnlineSecurity\",LabelEncoder()]),([\"OnlineBackup\",LabelEncoder()]),\n",
    "                     ([\"DeviceProtection\",LabelEncoder()]),([\"TechSupport\",LabelEncoder()]),\n",
    "                     ([\"Contract\",LabelEncoder()]),([\"PaperlessBilling\",LabelEncoder()]),\n",
    "                     ([\"PaymentMethod\",LabelEncoder()])\n",
    "                ])\n"
   ]
  },
  {
   "cell_type": "code",
   "execution_count": 12,
   "id": "c4cf3260",
   "metadata": {},
   "outputs": [],
   "source": [
    "classifier = []\n",
    "classifier.append((\"mapper\",m))\n",
    "classifier.append(('standardize', StandardScaler()))\n",
    "classifier.append((\"model\",RandomForestClassifier(n_estimators=100,criterion=\"gini\")))\n"
   ]
  },
  {
   "cell_type": "code",
   "execution_count": 13,
   "id": "be14940e",
   "metadata": {},
   "outputs": [
    {
     "data": {
      "text/plain": [
       "[('mapper',\n",
       "  DataFrameMapper(drop_cols=[],\n",
       "                  features=[['Dependents', LabelEncoder()],\n",
       "                            ['Partner', LabelEncoder()],\n",
       "                            ['MultipleLines', LabelEncoder()],\n",
       "                            ['OnlineSecurity', LabelEncoder()],\n",
       "                            ['OnlineBackup', LabelEncoder()],\n",
       "                            ['DeviceProtection', LabelEncoder()],\n",
       "                            ['TechSupport', LabelEncoder()],\n",
       "                            ['Contract', LabelEncoder()],\n",
       "                            ['PaperlessBilling', LabelEncoder()],\n",
       "                            ['PaymentMethod', LabelEncoder()]])),\n",
       " ('standardize', StandardScaler()),\n",
       " ('model', RandomForestClassifier())]"
      ]
     },
     "execution_count": 13,
     "metadata": {},
     "output_type": "execute_result"
    }
   ],
   "source": [
    "classifier "
   ]
  },
  {
   "cell_type": "code",
   "execution_count": 16,
   "id": "c5acfd0e",
   "metadata": {},
   "outputs": [
    {
     "ename": "AttributeError",
     "evalue": "type object 'Pipeline' has no attribute 'pipeline'",
     "output_type": "error",
     "traceback": [
      "\u001b[1;31m---------------------------------------------------------------------------\u001b[0m",
      "\u001b[1;31mAttributeError\u001b[0m                            Traceback (most recent call last)",
      "Input \u001b[1;32mIn [16]\u001b[0m, in \u001b[0;36m<cell line: 1>\u001b[1;34m()\u001b[0m\n\u001b[1;32m----> 1\u001b[0m model\u001b[38;5;241m=\u001b[39m\u001b[43mPipeline\u001b[49m\u001b[38;5;241;43m.\u001b[39;49m\u001b[43mpipeline\u001b[49m(classifier)\n",
      "\u001b[1;31mAttributeError\u001b[0m: type object 'Pipeline' has no attribute 'pipeline'"
     ]
    }
   ],
   "source": [
    "model=Pipeline.p"
   ]
  },
  {
   "cell_type": "code",
   "execution_count": null,
   "id": "6afa8db4",
   "metadata": {},
   "outputs": [],
   "source": [
    "model.fit(X,y)"
   ]
  },
  {
   "cell_type": "markdown",
   "id": "a36e192e",
   "metadata": {},
   "source": [
    "# Madel Saving"
   ]
  },
  {
   "cell_type": "code",
   "execution_count": null,
   "id": "b3651c38",
   "metadata": {},
   "outputs": [],
   "source": [
    "import pickle"
   ]
  },
  {
   "cell_type": "code",
   "execution_count": null,
   "id": "f364e40e",
   "metadata": {},
   "outputs": [],
   "source": [
    "f1=open(file=\"final_model.pkl\",mode=\"wb\")\n",
    "pickel.drop(model.f1)\n",
    "f1.close()"
   ]
  },
  {
   "cell_type": "code",
   "execution_count": null,
   "id": "d68e094f",
   "metadata": {},
   "outputs": [],
   "source": [
    "f2=open(file=\"final_model.pkl\",mode=\"wb\")\n",
    "pickle.dump(model,f2)"
   ]
  },
  {
   "cell_type": "markdown",
   "id": "7ddeae6e",
   "metadata": {},
   "source": [
    "# User testing"
   ]
  },
  {
   "cell_type": "code",
   "execution_count": null,
   "id": "d30dae61",
   "metadata": {},
   "outputs": [],
   "source": [
    "X.iloc[1,:]"
   ]
  },
  {
   "cell_type": "code",
   "execution_count": null,
   "id": "419e01ae",
   "metadata": {},
   "outputs": [],
   "source": [
    "data = {'SeniorCitizen': 0,\n",
    " 'Partner':'N\n",
    " 'Dependents': 'No'o',,\n",
    " 'tenure': 34,\n",
    " 'MultipleLines': 'No',\n",
    " 'InternetService': 'DSL',\n",
    " 'OnlineSecurity': 'Yes',\n",
    " 'OnlineBackup': 'No',\n",
    " 'DeviceProtection': 'Yes',\n",
    " 'TechSupport': 'No',\n",
    " 'Contract': 'One year',\n",
    " 'PaperlessBilling': 'No',\n",
    " 'PaymentMethod': 'Mailed check',\n",
    " 'MonthlyCharges': 56.95,\n",
    " 'TotalCharges': 1889.5}\n"
   ]
  },
  {
   "cell_type": "code",
   "execution_count": null,
   "id": "2f23010f",
   "metadata": {},
   "outputs": [],
   "source": [
    "Data[\"MultipleLines\"].unique()"
   ]
  },
  {
   "cell_type": "code",
   "execution_count": null,
   "id": "94fef2ca",
   "metadata": {},
   "outputs": [],
   "source": [
    "new_user = pd.DataFrame(data,index=[0])\n",
    "new_user"
   ]
  },
  {
   "cell_type": "code",
   "execution_count": null,
   "id": "21661557",
   "metadata": {},
   "outputs": [],
   "source": [
    "model.predict(new_user)"
   ]
  },
  {
   "cell_type": "code",
   "execution_count": null,
   "id": "fcdb6c13",
   "metadata": {},
   "outputs": [],
   "source": []
  }
 ],
 "metadata": {
  "kernelspec": {
   "display_name": "Python 3 (ipykernel)",
   "language": "python",
   "name": "python3"
  },
  "language_info": {
   "codemirror_mode": {
    "name": "ipython",
    "version": 3
   },
   "file_extension": ".py",
   "mimetype": "text/x-python",
   "name": "python",
   "nbconvert_exporter": "python",
   "pygments_lexer": "ipython3",
   "version": "3.9.12"
  }
 },
 "nbformat": 4,
 "nbformat_minor": 5
}
